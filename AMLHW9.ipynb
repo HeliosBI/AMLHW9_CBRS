{
 "cells": [
  {
   "cell_type": "markdown",
   "metadata": {},
   "source": [
    "\n",
    "    Использовать dataset MovieLens\n",
    "    Построить рекомендации (регрессия, предсказываем оценку) на фичах:\n",
    "\n",
    "    TF-IDF на тегах и жанрах\n",
    "    Средние оценки (+ median, variance, etc.) пользователя и фильма\n",
    "\n",
    "    Оценить RMSE на тестовой выборке\n",
    "\n"
   ]
  },
  {
   "cell_type": "code",
   "execution_count": 1,
   "metadata": {},
   "outputs": [],
   "source": [
    "import pandas as pd\n",
    "import numpy as np\n",
    "\n",
    "import matplotlib.pyplot as plt\n",
    "%matplotlib inline\n",
    "\n",
    "from tqdm.notebook import tqdm"
   ]
  },
  {
   "cell_type": "code",
   "execution_count": 2,
   "metadata": {},
   "outputs": [],
   "source": [
    "links = pd.read_csv('ml-latest/links.csv')\n",
    "movies = pd.read_csv('ml-latest/movies.csv')\n",
    "ratings = pd.read_csv('ml-latest/ratings.csv')\n",
    "tags = pd.read_csv('ml-latest/tags.csv')"
   ]
  },
  {
   "cell_type": "code",
   "execution_count": 3,
   "metadata": {},
   "outputs": [
    {
     "data": {
      "text/html": [
       "<div>\n",
       "<style scoped>\n",
       "    .dataframe tbody tr th:only-of-type {\n",
       "        vertical-align: middle;\n",
       "    }\n",
       "\n",
       "    .dataframe tbody tr th {\n",
       "        vertical-align: top;\n",
       "    }\n",
       "\n",
       "    .dataframe thead th {\n",
       "        text-align: right;\n",
       "    }\n",
       "</style>\n",
       "<table border=\"1\" class=\"dataframe\">\n",
       "  <thead>\n",
       "    <tr style=\"text-align: right;\">\n",
       "      <th></th>\n",
       "      <th>userId</th>\n",
       "      <th>movieId</th>\n",
       "      <th>rating</th>\n",
       "      <th>timestamp</th>\n",
       "    </tr>\n",
       "  </thead>\n",
       "  <tbody>\n",
       "    <tr>\n",
       "      <th>0</th>\n",
       "      <td>1</td>\n",
       "      <td>1</td>\n",
       "      <td>4.0</td>\n",
       "      <td>964982703</td>\n",
       "    </tr>\n",
       "    <tr>\n",
       "      <th>1</th>\n",
       "      <td>1</td>\n",
       "      <td>3</td>\n",
       "      <td>4.0</td>\n",
       "      <td>964981247</td>\n",
       "    </tr>\n",
       "    <tr>\n",
       "      <th>2</th>\n",
       "      <td>1</td>\n",
       "      <td>6</td>\n",
       "      <td>4.0</td>\n",
       "      <td>964982224</td>\n",
       "    </tr>\n",
       "    <tr>\n",
       "      <th>3</th>\n",
       "      <td>1</td>\n",
       "      <td>47</td>\n",
       "      <td>5.0</td>\n",
       "      <td>964983815</td>\n",
       "    </tr>\n",
       "    <tr>\n",
       "      <th>4</th>\n",
       "      <td>1</td>\n",
       "      <td>50</td>\n",
       "      <td>5.0</td>\n",
       "      <td>964982931</td>\n",
       "    </tr>\n",
       "  </tbody>\n",
       "</table>\n",
       "</div>"
      ],
      "text/plain": [
       "   userId  movieId  rating  timestamp\n",
       "0       1        1     4.0  964982703\n",
       "1       1        3     4.0  964981247\n",
       "2       1        6     4.0  964982224\n",
       "3       1       47     5.0  964983815\n",
       "4       1       50     5.0  964982931"
      ]
     },
     "execution_count": 3,
     "metadata": {},
     "output_type": "execute_result"
    }
   ],
   "source": [
    "# movies.head()\n",
    "ratings.head()\n",
    "# links.head()\n",
    "# tags.head()"
   ]
  },
  {
   "cell_type": "code",
   "execution_count": 4,
   "metadata": {},
   "outputs": [
    {
     "data": {
      "text/plain": [
       "<matplotlib.axes._subplots.AxesSubplot at 0x23bd5ee9eb0>"
      ]
     },
     "execution_count": 4,
     "metadata": {},
     "output_type": "execute_result"
    },
    {
     "data": {
      "image/png": "[encoded data removed]",
      "text/plain": [
       "<Figure size 432x288 with 1 Axes>"
      ]
     },
     "metadata": {
      "needs_background": "light"
     },
     "output_type": "display_data"
    }
   ],
   "source": [
    "ratings.groupby('userId').rating.mean().hist(bins=30)"
   ]
  },
  {
   "cell_type": "code",
   "execution_count": 5,
   "metadata": {},
   "outputs": [
    {
     "data": {
      "text/plain": [
       "<matplotlib.axes._subplots.AxesSubplot at 0x23bd60ba910>"
      ]
     },
     "execution_count": 5,
     "metadata": {},
     "output_type": "execute_result"
    },
    {
     "data": {
      "image/png": "[encoded data removed]",
      "text/plain": [
       "<Figure size 432x288 with 1 Axes>"
      ]
     },
     "metadata": {
      "needs_background": "light"
     },
     "output_type": "display_data"
    }
   ],
   "source": [
    "ratings.groupby('movieId').rating.mean().hist(bins=10)"
   ]
  },
  {
   "cell_type": "code",
   "execution_count": 6,
   "metadata": {},
   "outputs": [],
   "source": [
    "df = ratings.copy().drop('timestamp', axis=1)"
   ]
  },
  {
   "cell_type": "code",
   "execution_count": 7,
   "metadata": {},
   "outputs": [],
   "source": [
    "# df['userId_average_rating'] = ratings.userId.apply(lambda x: ratings.groupby('userId').rating.mean().loc[x])\n",
    "\n",
    "#не дождался окончания работы, вышел очень дорогой вариант"
   ]
  },
  {
   "cell_type": "markdown",
   "metadata": {},
   "source": [
    "### Средние оценки (+ median, variance, etc.) пользователя"
   ]
  },
  {
   "cell_type": "code",
   "execution_count": 8,
   "metadata": {},
   "outputs": [],
   "source": [
    "userId_average_rating = ratings.groupby('userId').rating.mean().round(2)"
   ]
  },
  {
   "cell_type": "code",
   "execution_count": 9,
   "metadata": {},
   "outputs": [],
   "source": [
    "df = df.merge(userId_average_rating, how='left', left_on='userId', right_index=True, suffixes=('', '_average_for_userid'))"
   ]
  },
  {
   "cell_type": "markdown",
   "metadata": {},
   "source": [
    "  "
   ]
  },
  {
   "cell_type": "code",
   "execution_count": 10,
   "metadata": {},
   "outputs": [],
   "source": [
    "userId_median_rating = ratings.groupby('userId').rating.median().round(2)"
   ]
  },
  {
   "cell_type": "code",
   "execution_count": 11,
   "metadata": {},
   "outputs": [],
   "source": [
    "df = df.merge(userId_median_rating, how='left', left_on='userId', right_index=True, suffixes=('', '_median_for_userid'))"
   ]
  },
  {
   "cell_type": "markdown",
   "metadata": {},
   "source": [
    "  "
   ]
  },
  {
   "cell_type": "code",
   "execution_count": 12,
   "metadata": {},
   "outputs": [],
   "source": [
    "userId_variance_rating = ratings.groupby('userId').rating.var().round(2)"
   ]
  },
  {
   "cell_type": "code",
   "execution_count": 13,
   "metadata": {},
   "outputs": [],
   "source": [
    "df = df.merge(userId_variance_rating, how='left', left_on='userId', right_index=True, suffixes=('', '_variance_for_userid'))"
   ]
  },
  {
   "cell_type": "markdown",
   "metadata": {},
   "source": [
    "  "
   ]
  },
  {
   "cell_type": "code",
   "execution_count": 14,
   "metadata": {},
   "outputs": [
    {
     "data": {
      "text/html": [
       "<div>\n",
       "<style scoped>\n",
       "    .dataframe tbody tr th:only-of-type {\n",
       "        vertical-align: middle;\n",
       "    }\n",
       "\n",
       "    .dataframe tbody tr th {\n",
       "        vertical-align: top;\n",
       "    }\n",
       "\n",
       "    .dataframe thead th {\n",
       "        text-align: right;\n",
       "    }\n",
       "</style>\n",
       "<table border=\"1\" class=\"dataframe\">\n",
       "  <thead>\n",
       "    <tr style=\"text-align: right;\">\n",
       "      <th></th>\n",
       "      <th>userId</th>\n",
       "      <th>movieId</th>\n",
       "      <th>rating</th>\n",
       "      <th>rating_average_for_userid</th>\n",
       "      <th>rating_median_for_userid</th>\n",
       "      <th>rating_variance_for_userid</th>\n",
       "    </tr>\n",
       "  </thead>\n",
       "  <tbody>\n",
       "    <tr>\n",
       "      <th>100831</th>\n",
       "      <td>610</td>\n",
       "      <td>166534</td>\n",
       "      <td>4.0</td>\n",
       "      <td>3.69</td>\n",
       "      <td>3.5</td>\n",
       "      <td>0.74</td>\n",
       "    </tr>\n",
       "    <tr>\n",
       "      <th>100832</th>\n",
       "      <td>610</td>\n",
       "      <td>168248</td>\n",
       "      <td>5.0</td>\n",
       "      <td>3.69</td>\n",
       "      <td>3.5</td>\n",
       "      <td>0.74</td>\n",
       "    </tr>\n",
       "    <tr>\n",
       "      <th>100833</th>\n",
       "      <td>610</td>\n",
       "      <td>168250</td>\n",
       "      <td>5.0</td>\n",
       "      <td>3.69</td>\n",
       "      <td>3.5</td>\n",
       "      <td>0.74</td>\n",
       "    </tr>\n",
       "    <tr>\n",
       "      <th>100834</th>\n",
       "      <td>610</td>\n",
       "      <td>168252</td>\n",
       "      <td>5.0</td>\n",
       "      <td>3.69</td>\n",
       "      <td>3.5</td>\n",
       "      <td>0.74</td>\n",
       "    </tr>\n",
       "    <tr>\n",
       "      <th>100835</th>\n",
       "      <td>610</td>\n",
       "      <td>170875</td>\n",
       "      <td>3.0</td>\n",
       "      <td>3.69</td>\n",
       "      <td>3.5</td>\n",
       "      <td>0.74</td>\n",
       "    </tr>\n",
       "  </tbody>\n",
       "</table>\n",
       "</div>"
      ],
      "text/plain": [
       "        userId  movieId  rating  rating_average_for_userid  \\\n",
       "100831     610   166534     4.0                       3.69   \n",
       "100832     610   168248     5.0                       3.69   \n",
       "100833     610   168250     5.0                       3.69   \n",
       "100834     610   168252     5.0                       3.69   \n",
       "100835     610   170875     3.0                       3.69   \n",
       "\n",
       "        rating_median_for_userid  rating_variance_for_userid  \n",
       "100831                       3.5                        0.74  \n",
       "100832                       3.5                        0.74  \n",
       "100833                       3.5                        0.74  \n",
       "100834                       3.5                        0.74  \n",
       "100835                       3.5                        0.74  "
      ]
     },
     "execution_count": 14,
     "metadata": {},
     "output_type": "execute_result"
    }
   ],
   "source": [
    "df.tail()"
   ]
  },
  {
   "cell_type": "markdown",
   "metadata": {},
   "source": [
    "### Средние оценки (+ median, variance, etc.) фильма"
   ]
  },
  {
   "cell_type": "code",
   "execution_count": 15,
   "metadata": {},
   "outputs": [],
   "source": [
    "movieId_average_rating = ratings.groupby('movieId').rating.mean().round(2)"
   ]
  },
  {
   "cell_type": "code",
   "execution_count": 16,
   "metadata": {},
   "outputs": [],
   "source": [
    "df = df.merge(movieId_average_rating, how='left', left_on='movieId', right_index=True, suffixes=('', '_average_for_movieId'))"
   ]
  },
  {
   "cell_type": "markdown",
   "metadata": {},
   "source": [
    "  "
   ]
  },
  {
   "cell_type": "code",
   "execution_count": 17,
   "metadata": {},
   "outputs": [],
   "source": [
    "movieId_median_rating = ratings.groupby('movieId').rating.median().round(2)"
   ]
  },
  {
   "cell_type": "code",
   "execution_count": 18,
   "metadata": {},
   "outputs": [],
   "source": [
    "df = df.merge(movieId_median_rating, how='left', left_on='movieId', right_index=True, suffixes=('', '_median_for_movieId'))"
   ]
  },
  {
   "cell_type": "markdown",
   "metadata": {},
   "source": [
    "  "
   ]
  },
  {
   "cell_type": "code",
   "execution_count": 19,
   "metadata": {},
   "outputs": [],
   "source": [
    "movieId_variance_rating = ratings.groupby('movieId').rating.var().round(2)"
   ]
  },
  {
   "cell_type": "code",
   "execution_count": 20,
   "metadata": {},
   "outputs": [],
   "source": [
    "df = df.merge(movieId_variance_rating, how='left', left_on='movieId', right_index=True, suffixes=('', '_variance_for_movieId'))"
   ]
  },
  {
   "cell_type": "code",
   "execution_count": 21,
   "metadata": {},
   "outputs": [],
   "source": [
    "df.rating_variance_for_movieId = df.rating_variance_for_movieId.fillna(0)"
   ]
  },
  {
   "cell_type": "markdown",
   "metadata": {},
   "source": [
    "  "
   ]
  },
  {
   "cell_type": "code",
   "execution_count": 22,
   "metadata": {},
   "outputs": [
    {
     "data": {
      "text/html": [
       "<div>\n",
       "<style scoped>\n",
       "    .dataframe tbody tr th:only-of-type {\n",
       "        vertical-align: middle;\n",
       "    }\n",
       "\n",
       "    .dataframe tbody tr th {\n",
       "        vertical-align: top;\n",
       "    }\n",
       "\n",
       "    .dataframe thead th {\n",
       "        text-align: right;\n",
       "    }\n",
       "</style>\n",
       "<table border=\"1\" class=\"dataframe\">\n",
       "  <thead>\n",
       "    <tr style=\"text-align: right;\">\n",
       "      <th></th>\n",
       "      <th>userId</th>\n",
       "      <th>movieId</th>\n",
       "      <th>rating</th>\n",
       "      <th>rating_average_for_userid</th>\n",
       "      <th>rating_median_for_userid</th>\n",
       "      <th>rating_variance_for_userid</th>\n",
       "      <th>rating_average_for_movieId</th>\n",
       "      <th>rating_median_for_movieId</th>\n",
       "      <th>rating_variance_for_movieId</th>\n",
       "    </tr>\n",
       "  </thead>\n",
       "  <tbody>\n",
       "    <tr>\n",
       "      <th>100831</th>\n",
       "      <td>610</td>\n",
       "      <td>166534</td>\n",
       "      <td>4.0</td>\n",
       "      <td>3.69</td>\n",
       "      <td>3.5</td>\n",
       "      <td>0.74</td>\n",
       "      <td>3.33</td>\n",
       "      <td>4.0</td>\n",
       "      <td>2.47</td>\n",
       "    </tr>\n",
       "    <tr>\n",
       "      <th>100832</th>\n",
       "      <td>610</td>\n",
       "      <td>168248</td>\n",
       "      <td>5.0</td>\n",
       "      <td>3.69</td>\n",
       "      <td>3.5</td>\n",
       "      <td>0.74</td>\n",
       "      <td>4.14</td>\n",
       "      <td>4.0</td>\n",
       "      <td>0.56</td>\n",
       "    </tr>\n",
       "    <tr>\n",
       "      <th>100833</th>\n",
       "      <td>610</td>\n",
       "      <td>168250</td>\n",
       "      <td>5.0</td>\n",
       "      <td>3.69</td>\n",
       "      <td>3.5</td>\n",
       "      <td>0.74</td>\n",
       "      <td>3.63</td>\n",
       "      <td>4.0</td>\n",
       "      <td>0.95</td>\n",
       "    </tr>\n",
       "    <tr>\n",
       "      <th>100834</th>\n",
       "      <td>610</td>\n",
       "      <td>168252</td>\n",
       "      <td>5.0</td>\n",
       "      <td>3.69</td>\n",
       "      <td>3.5</td>\n",
       "      <td>0.74</td>\n",
       "      <td>4.28</td>\n",
       "      <td>4.5</td>\n",
       "      <td>0.42</td>\n",
       "    </tr>\n",
       "    <tr>\n",
       "      <th>100835</th>\n",
       "      <td>610</td>\n",
       "      <td>170875</td>\n",
       "      <td>3.0</td>\n",
       "      <td>3.69</td>\n",
       "      <td>3.5</td>\n",
       "      <td>0.74</td>\n",
       "      <td>2.33</td>\n",
       "      <td>3.0</td>\n",
       "      <td>1.33</td>\n",
       "    </tr>\n",
       "  </tbody>\n",
       "</table>\n",
       "</div>"
      ],
      "text/plain": [
       "        userId  movieId  rating  rating_average_for_userid  \\\n",
       "100831     610   166534     4.0                       3.69   \n",
       "100832     610   168248     5.0                       3.69   \n",
       "100833     610   168250     5.0                       3.69   \n",
       "100834     610   168252     5.0                       3.69   \n",
       "100835     610   170875     3.0                       3.69   \n",
       "\n",
       "        rating_median_for_userid  rating_variance_for_userid  \\\n",
       "100831                       3.5                        0.74   \n",
       "100832                       3.5                        0.74   \n",
       "100833                       3.5                        0.74   \n",
       "100834                       3.5                        0.74   \n",
       "100835                       3.5                        0.74   \n",
       "\n",
       "        rating_average_for_movieId  rating_median_for_movieId  \\\n",
       "100831                        3.33                        4.0   \n",
       "100832                        4.14                        4.0   \n",
       "100833                        3.63                        4.0   \n",
       "100834                        4.28                        4.5   \n",
       "100835                        2.33                        3.0   \n",
       "\n",
       "        rating_variance_for_movieId  \n",
       "100831                         2.47  \n",
       "100832                         0.56  \n",
       "100833                         0.95  \n",
       "100834                         0.42  \n",
       "100835                         1.33  "
      ]
     },
     "execution_count": 22,
     "metadata": {},
     "output_type": "execute_result"
    }
   ],
   "source": [
    "# df.info()\n",
    "df.tail()"
   ]
  },
  {
   "cell_type": "markdown",
   "metadata": {},
   "source": [
    "### TF-IDF на тегах и жанрах"
   ]
  },
  {
   "cell_type": "code",
   "execution_count": 23,
   "metadata": {},
   "outputs": [],
   "source": [
    "df = df.merge(movies,how='left', left_on='movieId',right_on='movieId').drop('title', axis=1)"
   ]
  },
  {
   "cell_type": "code",
   "execution_count": 24,
   "metadata": {},
   "outputs": [],
   "source": [
    "from sklearn.feature_extraction.text import TfidfVectorizer"
   ]
  },
  {
   "cell_type": "code",
   "execution_count": 25,
   "metadata": {},
   "outputs": [],
   "source": [
    "def change_string(s):\n",
    "    return ' '.join(s.replace(' ', '').replace('-', '').split('|'))"
   ]
  },
  {
   "cell_type": "code",
   "execution_count": 26,
   "metadata": {},
   "outputs": [],
   "source": [
    "df['genres'] = df.genres.apply(change_string)"
   ]
  },
  {
   "cell_type": "markdown",
   "metadata": {},
   "source": [
    "  "
   ]
  },
  {
   "cell_type": "code",
   "execution_count": 27,
   "metadata": {},
   "outputs": [],
   "source": [
    "df = df.merge(tags,how='left', left_on=['userId','movieId'],right_on=['userId','movieId']).drop('timestamp', axis=1)"
   ]
  },
  {
   "cell_type": "code",
   "execution_count": 28,
   "metadata": {},
   "outputs": [],
   "source": [
    "df['tag'] = df.tag.fillna('')"
   ]
  },
  {
   "cell_type": "code",
   "execution_count": 29,
   "metadata": {},
   "outputs": [
    {
     "data": {
      "text/html": [
       "<div>\n",
       "<style scoped>\n",
       "    .dataframe tbody tr th:only-of-type {\n",
       "        vertical-align: middle;\n",
       "    }\n",
       "\n",
       "    .dataframe tbody tr th {\n",
       "        vertical-align: top;\n",
       "    }\n",
       "\n",
       "    .dataframe thead th {\n",
       "        text-align: right;\n",
       "    }\n",
       "</style>\n",
       "<table border=\"1\" class=\"dataframe\">\n",
       "  <thead>\n",
       "    <tr style=\"text-align: right;\">\n",
       "      <th></th>\n",
       "      <th>userId</th>\n",
       "      <th>movieId</th>\n",
       "      <th>rating</th>\n",
       "      <th>rating_average_for_userid</th>\n",
       "      <th>rating_median_for_userid</th>\n",
       "      <th>rating_variance_for_userid</th>\n",
       "      <th>rating_average_for_movieId</th>\n",
       "      <th>rating_median_for_movieId</th>\n",
       "      <th>rating_variance_for_movieId</th>\n",
       "      <th>genres</th>\n",
       "      <th>tag</th>\n",
       "    </tr>\n",
       "  </thead>\n",
       "  <tbody>\n",
       "    <tr>\n",
       "      <th>102672</th>\n",
       "      <td>610</td>\n",
       "      <td>166534</td>\n",
       "      <td>4.0</td>\n",
       "      <td>3.69</td>\n",
       "      <td>3.5</td>\n",
       "      <td>0.74</td>\n",
       "      <td>3.33</td>\n",
       "      <td>4.0</td>\n",
       "      <td>2.47</td>\n",
       "      <td>Drama Horror Thriller</td>\n",
       "      <td></td>\n",
       "    </tr>\n",
       "    <tr>\n",
       "      <th>102673</th>\n",
       "      <td>610</td>\n",
       "      <td>168248</td>\n",
       "      <td>5.0</td>\n",
       "      <td>3.69</td>\n",
       "      <td>3.5</td>\n",
       "      <td>0.74</td>\n",
       "      <td>4.14</td>\n",
       "      <td>4.0</td>\n",
       "      <td>0.56</td>\n",
       "      <td>Action Crime Thriller</td>\n",
       "      <td>Heroic Bloodshed</td>\n",
       "    </tr>\n",
       "    <tr>\n",
       "      <th>102674</th>\n",
       "      <td>610</td>\n",
       "      <td>168250</td>\n",
       "      <td>5.0</td>\n",
       "      <td>3.69</td>\n",
       "      <td>3.5</td>\n",
       "      <td>0.74</td>\n",
       "      <td>3.63</td>\n",
       "      <td>4.0</td>\n",
       "      <td>0.95</td>\n",
       "      <td>Horror</td>\n",
       "      <td></td>\n",
       "    </tr>\n",
       "    <tr>\n",
       "      <th>102675</th>\n",
       "      <td>610</td>\n",
       "      <td>168252</td>\n",
       "      <td>5.0</td>\n",
       "      <td>3.69</td>\n",
       "      <td>3.5</td>\n",
       "      <td>0.74</td>\n",
       "      <td>4.28</td>\n",
       "      <td>4.5</td>\n",
       "      <td>0.42</td>\n",
       "      <td>Action SciFi</td>\n",
       "      <td></td>\n",
       "    </tr>\n",
       "    <tr>\n",
       "      <th>102676</th>\n",
       "      <td>610</td>\n",
       "      <td>170875</td>\n",
       "      <td>3.0</td>\n",
       "      <td>3.69</td>\n",
       "      <td>3.5</td>\n",
       "      <td>0.74</td>\n",
       "      <td>2.33</td>\n",
       "      <td>3.0</td>\n",
       "      <td>1.33</td>\n",
       "      <td>Action Crime Drama Thriller</td>\n",
       "      <td></td>\n",
       "    </tr>\n",
       "  </tbody>\n",
       "</table>\n",
       "</div>"
      ],
      "text/plain": [
       "        userId  movieId  rating  rating_average_for_userid  \\\n",
       "102672     610   166534     4.0                       3.69   \n",
       "102673     610   168248     5.0                       3.69   \n",
       "102674     610   168250     5.0                       3.69   \n",
       "102675     610   168252     5.0                       3.69   \n",
       "102676     610   170875     3.0                       3.69   \n",
       "\n",
       "        rating_median_for_userid  rating_variance_for_userid  \\\n",
       "102672                       3.5                        0.74   \n",
       "102673                       3.5                        0.74   \n",
       "102674                       3.5                        0.74   \n",
       "102675                       3.5                        0.74   \n",
       "102676                       3.5                        0.74   \n",
       "\n",
       "        rating_average_for_movieId  rating_median_for_movieId  \\\n",
       "102672                        3.33                        4.0   \n",
       "102673                        4.14                        4.0   \n",
       "102674                        3.63                        4.0   \n",
       "102675                        4.28                        4.5   \n",
       "102676                        2.33                        3.0   \n",
       "\n",
       "        rating_variance_for_movieId                       genres  \\\n",
       "102672                         2.47        Drama Horror Thriller   \n",
       "102673                         0.56        Action Crime Thriller   \n",
       "102674                         0.95                       Horror   \n",
       "102675                         0.42                 Action SciFi   \n",
       "102676                         1.33  Action Crime Drama Thriller   \n",
       "\n",
       "                     tag  \n",
       "102672                    \n",
       "102673  Heroic Bloodshed  \n",
       "102674                    \n",
       "102675                    \n",
       "102676                    "
      ]
     },
     "execution_count": 29,
     "metadata": {},
     "output_type": "execute_result"
    }
   ],
   "source": [
    "df.tail()"
   ]
  },
  {
   "cell_type": "markdown",
   "metadata": {},
   "source": [
    "  "
   ]
  },
  {
   "cell_type": "code",
   "execution_count": 30,
   "metadata": {},
   "outputs": [],
   "source": [
    "# genre_vectoriser = TfidfVectorizer()\n",
    "# genre_features = genre_vectoriser.fit_transform(df.genres)"
   ]
  },
  {
   "cell_type": "code",
   "execution_count": 31,
   "metadata": {},
   "outputs": [],
   "source": [
    "# tag_vectoriser = TfidfVectorizer()\n",
    "# tag_features = tag_vectoriser.fit_transform(df.tag)"
   ]
  },
  {
   "cell_type": "markdown",
   "metadata": {},
   "source": [
    "  "
   ]
  },
  {
   "cell_type": "code",
   "execution_count": 32,
   "metadata": {},
   "outputs": [],
   "source": [
    "# !pip install sklearn-pandas\n",
    "from sklearn_pandas import DataFrameMapper"
   ]
  },
  {
   "cell_type": "code",
   "execution_count": 33,
   "metadata": {},
   "outputs": [],
   "source": [
    "X = df.drop('rating', axis=1)\n",
    "y = df.rating"
   ]
  },
  {
   "cell_type": "code",
   "execution_count": 34,
   "metadata": {},
   "outputs": [],
   "source": [
    "mapper = DataFrameMapper([\n",
    "     ('genres', TfidfVectorizer()),\n",
    "     ('tag', TfidfVectorizer()),\n",
    "     (['userId', 'movieId', 'rating_average_for_userid',\n",
    "       'rating_median_for_userid', 'rating_variance_for_userid',\n",
    "       'rating_average_for_movieId', 'rating_median_for_movieId',\n",
    "       'rating_variance_for_movieId'], None)\n",
    " ], df_out=True)"
   ]
  },
  {
   "cell_type": "code",
   "execution_count": 35,
   "metadata": {},
   "outputs": [],
   "source": [
    "features = mapper.fit_transform(X)"
   ]
  },
  {
   "cell_type": "code",
   "execution_count": 51,
   "metadata": {},
   "outputs": [
    {
     "data": {
      "text/html": [
       "<div>\n",
       "<style scoped>\n",
       "    .dataframe tbody tr th:only-of-type {\n",
       "        vertical-align: middle;\n",
       "    }\n",
       "\n",
       "    .dataframe tbody tr th {\n",
       "        vertical-align: top;\n",
       "    }\n",
       "\n",
       "    .dataframe thead th {\n",
       "        text-align: right;\n",
       "    }\n",
       "</style>\n",
       "<table border=\"1\" class=\"dataframe\">\n",
       "  <thead>\n",
       "    <tr style=\"text-align: right;\">\n",
       "      <th></th>\n",
       "      <th>genres_action</th>\n",
       "      <th>genres_adventure</th>\n",
       "      <th>genres_animation</th>\n",
       "      <th>genres_children</th>\n",
       "      <th>genres_comedy</th>\n",
       "      <th>genres_crime</th>\n",
       "      <th>genres_documentary</th>\n",
       "      <th>genres_drama</th>\n",
       "      <th>genres_fantasy</th>\n",
       "      <th>genres_filmnoir</th>\n",
       "      <th>...</th>\n",
       "      <th>tag_zombies</th>\n",
       "      <th>tag_zooey</th>\n",
       "      <th>userId_movieId_rating_average_for_userid_rating_median_for_userid_rating_variance_for_userid_rating_average_for_movieId_rating_median_for_movieId_rating_variance_for_movieId_0</th>\n",
       "      <th>userId_movieId_rating_average_for_userid_rating_median_for_userid_rating_variance_for_userid_rating_average_for_movieId_rating_median_for_movieId_rating_variance_for_movieId_1</th>\n",
       "      <th>userId_movieId_rating_average_for_userid_rating_median_for_userid_rating_variance_for_userid_rating_average_for_movieId_rating_median_for_movieId_rating_variance_for_movieId_2</th>\n",
       "      <th>userId_movieId_rating_average_for_userid_rating_median_for_userid_rating_variance_for_userid_rating_average_for_movieId_rating_median_for_movieId_rating_variance_for_movieId_3</th>\n",
       "      <th>userId_movieId_rating_average_for_userid_rating_median_for_userid_rating_variance_for_userid_rating_average_for_movieId_rating_median_for_movieId_rating_variance_for_movieId_4</th>\n",
       "      <th>userId_movieId_rating_average_for_userid_rating_median_for_userid_rating_variance_for_userid_rating_average_for_movieId_rating_median_for_movieId_rating_variance_for_movieId_5</th>\n",
       "      <th>userId_movieId_rating_average_for_userid_rating_median_for_userid_rating_variance_for_userid_rating_average_for_movieId_rating_median_for_movieId_rating_variance_for_movieId_6</th>\n",
       "      <th>userId_movieId_rating_average_for_userid_rating_median_for_userid_rating_variance_for_userid_rating_average_for_movieId_rating_median_for_movieId_rating_variance_for_movieId_7</th>\n",
       "    </tr>\n",
       "  </thead>\n",
       "  <tbody>\n",
       "    <tr>\n",
       "      <th>0</th>\n",
       "      <td>0.000000</td>\n",
       "      <td>0.363997</td>\n",
       "      <td>0.548865</td>\n",
       "      <td>0.509129</td>\n",
       "      <td>0.292063</td>\n",
       "      <td>0.000000</td>\n",
       "      <td>0.0</td>\n",
       "      <td>0.0</td>\n",
       "      <td>0.470894</td>\n",
       "      <td>0.0</td>\n",
       "      <td>...</td>\n",
       "      <td>0.0</td>\n",
       "      <td>0.0</td>\n",
       "      <td>1.0</td>\n",
       "      <td>1.0</td>\n",
       "      <td>4.37</td>\n",
       "      <td>5.0</td>\n",
       "      <td>0.64</td>\n",
       "      <td>3.92</td>\n",
       "      <td>4.0</td>\n",
       "      <td>0.70</td>\n",
       "    </tr>\n",
       "    <tr>\n",
       "      <th>1</th>\n",
       "      <td>0.000000</td>\n",
       "      <td>0.000000</td>\n",
       "      <td>0.000000</td>\n",
       "      <td>0.000000</td>\n",
       "      <td>0.582835</td>\n",
       "      <td>0.000000</td>\n",
       "      <td>0.0</td>\n",
       "      <td>0.0</td>\n",
       "      <td>0.000000</td>\n",
       "      <td>0.0</td>\n",
       "      <td>...</td>\n",
       "      <td>0.0</td>\n",
       "      <td>0.0</td>\n",
       "      <td>1.0</td>\n",
       "      <td>3.0</td>\n",
       "      <td>4.37</td>\n",
       "      <td>5.0</td>\n",
       "      <td>0.64</td>\n",
       "      <td>3.26</td>\n",
       "      <td>3.0</td>\n",
       "      <td>1.11</td>\n",
       "    </tr>\n",
       "    <tr>\n",
       "      <th>2</th>\n",
       "      <td>0.516958</td>\n",
       "      <td>0.000000</td>\n",
       "      <td>0.000000</td>\n",
       "      <td>0.000000</td>\n",
       "      <td>0.000000</td>\n",
       "      <td>0.656650</td>\n",
       "      <td>0.0</td>\n",
       "      <td>0.0</td>\n",
       "      <td>0.000000</td>\n",
       "      <td>0.0</td>\n",
       "      <td>...</td>\n",
       "      <td>0.0</td>\n",
       "      <td>0.0</td>\n",
       "      <td>1.0</td>\n",
       "      <td>6.0</td>\n",
       "      <td>4.37</td>\n",
       "      <td>5.0</td>\n",
       "      <td>0.64</td>\n",
       "      <td>3.95</td>\n",
       "      <td>4.0</td>\n",
       "      <td>0.67</td>\n",
       "    </tr>\n",
       "    <tr>\n",
       "      <th>3</th>\n",
       "      <td>0.000000</td>\n",
       "      <td>0.000000</td>\n",
       "      <td>0.000000</td>\n",
       "      <td>0.000000</td>\n",
       "      <td>0.000000</td>\n",
       "      <td>0.000000</td>\n",
       "      <td>0.0</td>\n",
       "      <td>0.0</td>\n",
       "      <td>0.000000</td>\n",
       "      <td>0.0</td>\n",
       "      <td>...</td>\n",
       "      <td>0.0</td>\n",
       "      <td>0.0</td>\n",
       "      <td>1.0</td>\n",
       "      <td>47.0</td>\n",
       "      <td>4.37</td>\n",
       "      <td>5.0</td>\n",
       "      <td>0.64</td>\n",
       "      <td>3.98</td>\n",
       "      <td>4.0</td>\n",
       "      <td>0.85</td>\n",
       "    </tr>\n",
       "    <tr>\n",
       "      <th>4</th>\n",
       "      <td>0.000000</td>\n",
       "      <td>0.000000</td>\n",
       "      <td>0.000000</td>\n",
       "      <td>0.000000</td>\n",
       "      <td>0.000000</td>\n",
       "      <td>0.547452</td>\n",
       "      <td>0.0</td>\n",
       "      <td>0.0</td>\n",
       "      <td>0.000000</td>\n",
       "      <td>0.0</td>\n",
       "      <td>...</td>\n",
       "      <td>0.0</td>\n",
       "      <td>0.0</td>\n",
       "      <td>1.0</td>\n",
       "      <td>50.0</td>\n",
       "      <td>4.37</td>\n",
       "      <td>5.0</td>\n",
       "      <td>0.64</td>\n",
       "      <td>4.24</td>\n",
       "      <td>4.5</td>\n",
       "      <td>0.64</td>\n",
       "    </tr>\n",
       "  </tbody>\n",
       "</table>\n",
       "<p>5 rows × 1736 columns</p>\n",
       "</div>"
      ],
      "text/plain": [
       "   genres_action  genres_adventure  genres_animation  genres_children  \\\n",
       "0       0.000000          0.363997          0.548865         0.509129   \n",
       "1       0.000000          0.000000          0.000000         0.000000   \n",
       "2       0.516958          0.000000          0.000000         0.000000   \n",
       "3       0.000000          0.000000          0.000000         0.000000   \n",
       "4       0.000000          0.000000          0.000000         0.000000   \n",
       "\n",
       "   genres_comedy  genres_crime  genres_documentary  genres_drama  \\\n",
       "0       0.292063      0.000000                 0.0           0.0   \n",
       "1       0.582835      0.000000                 0.0           0.0   \n",
       "2       0.000000      0.656650                 0.0           0.0   \n",
       "3       0.000000      0.000000                 0.0           0.0   \n",
       "4       0.000000      0.547452                 0.0           0.0   \n",
       "\n",
       "   genres_fantasy  genres_filmnoir  ...  tag_zombies  tag_zooey  \\\n",
       "0        0.470894              0.0  ...          0.0        0.0   \n",
       "1        0.000000              0.0  ...          0.0        0.0   \n",
       "2        0.000000              0.0  ...          0.0        0.0   \n",
       "3        0.000000              0.0  ...          0.0        0.0   \n",
       "4        0.000000              0.0  ...          0.0        0.0   \n",
       "\n",
       "   userId_movieId_rating_average_for_userid_rating_median_for_userid_rating_variance_for_userid_rating_average_for_movieId_rating_median_for_movieId_rating_variance_for_movieId_0  \\\n",
       "0                                                1.0                                                                                                                                 \n",
       "1                                                1.0                                                                                                                                 \n",
       "2                                                1.0                                                                                                                                 \n",
       "3                                                1.0                                                                                                                                 \n",
       "4                                                1.0                                                                                                                                 \n",
       "\n",
       "   userId_movieId_rating_average_for_userid_rating_median_for_userid_rating_variance_for_userid_rating_average_for_movieId_rating_median_for_movieId_rating_variance_for_movieId_1  \\\n",
       "0                                                1.0                                                                                                                                 \n",
       "1                                                3.0                                                                                                                                 \n",
       "2                                                6.0                                                                                                                                 \n",
       "3                                               47.0                                                                                                                                 \n",
       "4                                               50.0                                                                                                                                 \n",
       "\n",
       "   userId_movieId_rating_average_for_userid_rating_median_for_userid_rating_variance_for_userid_rating_average_for_movieId_rating_median_for_movieId_rating_variance_for_movieId_2  \\\n",
       "0                                               4.37                                                                                                                                 \n",
       "1                                               4.37                                                                                                                                 \n",
       "2                                               4.37                                                                                                                                 \n",
       "3                                               4.37                                                                                                                                 \n",
       "4                                               4.37                                                                                                                                 \n",
       "\n",
       "   userId_movieId_rating_average_for_userid_rating_median_for_userid_rating_variance_for_userid_rating_average_for_movieId_rating_median_for_movieId_rating_variance_for_movieId_3  \\\n",
       "0                                                5.0                                                                                                                                 \n",
       "1                                                5.0                                                                                                                                 \n",
       "2                                                5.0                                                                                                                                 \n",
       "3                                                5.0                                                                                                                                 \n",
       "4                                                5.0                                                                                                                                 \n",
       "\n",
       "   userId_movieId_rating_average_for_userid_rating_median_for_userid_rating_variance_for_userid_rating_average_for_movieId_rating_median_for_movieId_rating_variance_for_movieId_4  \\\n",
       "0                                               0.64                                                                                                                                 \n",
       "1                                               0.64                                                                                                                                 \n",
       "2                                               0.64                                                                                                                                 \n",
       "3                                               0.64                                                                                                                                 \n",
       "4                                               0.64                                                                                                                                 \n",
       "\n",
       "   userId_movieId_rating_average_for_userid_rating_median_for_userid_rating_variance_for_userid_rating_average_for_movieId_rating_median_for_movieId_rating_variance_for_movieId_5  \\\n",
       "0                                               3.92                                                                                                                                 \n",
       "1                                               3.26                                                                                                                                 \n",
       "2                                               3.95                                                                                                                                 \n",
       "3                                               3.98                                                                                                                                 \n",
       "4                                               4.24                                                                                                                                 \n",
       "\n",
       "   userId_movieId_rating_average_for_userid_rating_median_for_userid_rating_variance_for_userid_rating_average_for_movieId_rating_median_for_movieId_rating_variance_for_movieId_6  \\\n",
       "0                                                4.0                                                                                                                                 \n",
       "1                                                3.0                                                                                                                                 \n",
       "2                                                4.0                                                                                                                                 \n",
       "3                                                4.0                                                                                                                                 \n",
       "4                                                4.5                                                                                                                                 \n",
       "\n",
       "   userId_movieId_rating_average_for_userid_rating_median_for_userid_rating_variance_for_userid_rating_average_for_movieId_rating_median_for_movieId_rating_variance_for_movieId_7  \n",
       "0                                               0.70                                                                                                                                \n",
       "1                                               1.11                                                                                                                                \n",
       "2                                               0.67                                                                                                                                \n",
       "3                                               0.85                                                                                                                                \n",
       "4                                               0.64                                                                                                                                \n",
       "\n",
       "[5 rows x 1736 columns]"
      ]
     },
     "execution_count": 51,
     "metadata": {},
     "output_type": "execute_result"
    }
   ],
   "source": [
    "features.head()"
   ]
  },
  {
   "cell_type": "code",
   "execution_count": 37,
   "metadata": {},
   "outputs": [
    {
     "data": {
      "text/plain": [
       "(102677, 1736)"
      ]
     },
     "execution_count": 37,
     "metadata": {},
     "output_type": "execute_result"
    }
   ],
   "source": [
    "features.shape\n",
    "# y.shape"
   ]
  },
  {
   "cell_type": "markdown",
   "metadata": {},
   "source": [
    "### Построить рекомендации (регрессия, предсказываем оценку)"
   ]
  },
  {
   "cell_type": "code",
   "execution_count": 38,
   "metadata": {},
   "outputs": [],
   "source": [
    "from sklearn.model_selection import train_test_split"
   ]
  },
  {
   "cell_type": "code",
   "execution_count": 39,
   "metadata": {},
   "outputs": [],
   "source": [
    "X_train, X_test, y_train, y_test = train_test_split(features, y, test_size=0.3, random_state=42)"
   ]
  },
  {
   "cell_type": "code",
   "execution_count": 40,
   "metadata": {},
   "outputs": [],
   "source": [
    "from sklearn.ensemble import RandomForestRegressor"
   ]
  },
  {
   "cell_type": "code",
   "execution_count": 41,
   "metadata": {},
   "outputs": [],
   "source": [
    "rf_rg = RandomForestRegressor(n_estimators=50, n_jobs=-1)"
   ]
  },
  {
   "cell_type": "code",
   "execution_count": 42,
   "metadata": {},
   "outputs": [
    {
     "data": {
      "text/plain": [
       "RandomForestRegressor(n_estimators=50, n_jobs=-1)"
      ]
     },
     "execution_count": 42,
     "metadata": {},
     "output_type": "execute_result"
    }
   ],
   "source": [
    "rf_rg.fit(X_train, y_train)"
   ]
  },
  {
   "cell_type": "code",
   "execution_count": 43,
   "metadata": {},
   "outputs": [],
   "source": [
    "predictions = rf_rg.predict(X_test)"
   ]
  },
  {
   "cell_type": "markdown",
   "metadata": {},
   "source": [
    "### Оценить RMSE на тестовой выборке"
   ]
  },
  {
   "cell_type": "code",
   "execution_count": 44,
   "metadata": {},
   "outputs": [],
   "source": [
    "from sklearn.metrics import mean_squared_error"
   ]
  },
  {
   "cell_type": "code",
   "execution_count": 45,
   "metadata": {},
   "outputs": [
    {
     "data": {
      "text/plain": [
       "0.799547737292679"
      ]
     },
     "execution_count": 45,
     "metadata": {},
     "output_type": "execute_result"
    }
   ],
   "source": [
    "np.sqrt(mean_squared_error(y_test, predictions))"
   ]
  },
  {
   "cell_type": "markdown",
   "metadata": {},
   "source": [
    "  "
   ]
  },
  {
   "cell_type": "code",
   "execution_count": 46,
   "metadata": {},
   "outputs": [],
   "source": [
    "from sklearn.linear_model import Lasso"
   ]
  },
  {
   "cell_type": "code",
   "execution_count": 47,
   "metadata": {},
   "outputs": [],
   "source": [
    "lasso = Lasso(alpha = 0.1)"
   ]
  },
  {
   "cell_type": "code",
   "execution_count": 48,
   "metadata": {},
   "outputs": [
    {
     "data": {
      "text/plain": [
       "Lasso(alpha=0.1)"
      ]
     },
     "execution_count": 48,
     "metadata": {},
     "output_type": "execute_result"
    }
   ],
   "source": [
    "lasso.fit(X_train, y_train)"
   ]
  },
  {
   "cell_type": "code",
   "execution_count": 49,
   "metadata": {},
   "outputs": [],
   "source": [
    "predictions_lasso = lasso.predict(X_test)"
   ]
  },
  {
   "cell_type": "code",
   "execution_count": 50,
   "metadata": {},
   "outputs": [
    {
     "data": {
      "text/plain": [
       "0.8506361636649563"
      ]
     },
     "execution_count": 50,
     "metadata": {},
     "output_type": "execute_result"
    }
   ],
   "source": [
    "np.sqrt(mean_squared_error(y_test, predictions_lasso))"
   ]
  }
 ],
 "metadata": {
  "kernelspec": {
   "display_name": "Python 3",
   "language": "python",
   "name": "python3"
  },
  "language_info": {
   "codemirror_mode": {
    "name": "ipython",
    "version": 3
   },
   "file_extension": ".py",
   "mimetype": "text/x-python",
   "name": "python",
   "nbconvert_exporter": "python",
   "pygments_lexer": "ipython3",
   "version": "3.8.3"
  }
 },
 "nbformat": 4,
 "nbformat_minor": 4
}
